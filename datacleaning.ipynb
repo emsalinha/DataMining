{
 "cells": [
  {
   "cell_type": "code",
   "execution_count": 10,
   "metadata": {},
   "outputs": [],
   "source": [
    "import os\n",
    "os.getcwd()\n",
    "import matplotlib.pyplot as plt"
   ]
  },
  {
   "cell_type": "code",
   "execution_count": 2,
   "metadata": {},
   "outputs": [],
   "source": [
    "import pandas as pd\n",
    "with open('train.csv') as csvfile:\n",
    "    data = pd.read_csv(csvfile)"
   ]
  },
  {
   "cell_type": "code",
   "execution_count": 15,
   "metadata": {},
   "outputs": [
    {
     "name": "stdout",
     "output_type": "stream",
     "text": [
      "1000\n",
      "4958347\n"
     ]
    }
   ],
   "source": [
    "df = data.iloc[0:1000]\n",
    "print(len(df.index))\n",
    "print(len(data.index))\n",
    "n_participants = len(data.index)"
   ]
  },
  {
   "cell_type": "code",
   "execution_count": null,
   "metadata": {},
   "outputs": [],
   "source": [
    "#number of missing values (indicated with null)\n",
    "for column in data:\n",
    "    columnname = data[column].name\n",
    "    n_na = data[column].isnull().sum()\n",
    "    perc_na = int(n_na / n_participants * 100)\n",
    "    if n_na > 0:\n",
    "        print(columnname, n_na, 'na', perc_na,'%')"
   ]
  },
  {
   "cell_type": "code",
   "execution_count": 46,
   "metadata": {},
   "outputs": [
    {
     "name": "stdout",
     "output_type": "stream",
     "text": [
      "prop_starrating 169572 0 value 3 %\n",
      "prop_review_score 233294 0 value 4 %\n",
      "prop_log_historical_price 713899 0 value 14 %\n"
     ]
    }
   ],
   "source": [
    "#number of missing values indicated with 0\n",
    "zero_columns = ['prop_starrating', 'prop_review_score','prop_log_historical_price']\n",
    "for column in zero_columns:\n",
    "    columnname = data[column].name\n",
    "    n_na = (data[column]==0).sum()\n",
    "    perc_na = int(n_na / n_participants * 100)\n",
    "    if n_na > 0:\n",
    "        print(columnname, n_na, '0 value', perc_na,'%')\n"
   ]
  },
  {
   "cell_type": "code",
   "execution_count": 194,
   "metadata": {},
   "outputs": [],
   "source": [
    "#get amount of observation at each point in time and plot\n",
    "time = data['date_time'].str.split(' ').str[1]\n",
    "times = time.value_counts().to_frame()\n",
    "times['time'] = times.index\n",
    "times_plotdata = times.sort_values(by = 'time')\n",
    "listcount = list(times_plotdata['date_time'].values)\n",
    "listime = (list(times_plotdata['time'].values))\n",
    "\n",
    "import matplotlib.pyplot as plt\n",
    "import plotly.plotly as py\n",
    "import plotly\n",
    "import plotly.graph_objs as go\n",
    "plotly.tools.set_credentials_file(username='emsalinha', api_key='pxuCc78LwIpSqXxRbtu4')\n",
    "\n",
    "data_bar = [go.Bar(\n",
    "            x=listime,\n",
    "            y=listcount\n",
    "    )]\n",
    "\n",
    "#py.iplot(data_bar, filename='basic-bar')\n"
   ]
  },
  {
   "cell_type": "code",
   "execution_count": 224,
   "metadata": {},
   "outputs": [
    {
     "data": {
      "text/html": [
       "<iframe id=\"igraph\" scrolling=\"no\" style=\"border:none;\" seamless=\"seamless\" src=\"https://plot.ly/~emsalinha/2.embed\" height=\"525px\" width=\"100%\"></iframe>"
      ],
      "text/plain": [
       "<plotly.tools.PlotlyDisplay object>"
      ]
     },
     "execution_count": 224,
     "metadata": {},
     "output_type": "execute_result"
    }
   ],
   "source": [
    "#get amount of observation at each date in time and plot\n",
    "date = df['date_time'].str.split(' ').str[0]\n",
    "dates = date.value_counts().to_frame()\n",
    "dates['date'] = dates.index\n",
    "dates_plotdata = dates.sort_values(by = 'date')\n",
    "listdcount = list(dates_plotdata['date_time'].values)\n",
    "listdtime = (list(dates_plotdata['date'].values))\n",
    "\n",
    "import matplotlib.pyplot as plt\n",
    "import plotly.plotly as py\n",
    "import plotly\n",
    "import plotly.graph_objs as go\n",
    "plotly.tools.set_credentials_file(username='emsalinha', api_key='pxuCc78LwIpSqXxRbtu4')\n",
    "\n",
    "data_bar2 = [go.Bar(\n",
    "            x=listdtime,\n",
    "            y=listdcount\n",
    "    )]\n",
    "\n",
    "py.iplot(data_bar2, filename='basic-bar')"
   ]
  },
  {
   "cell_type": "code",
   "execution_count": 11,
   "metadata": {},
   "outputs": [
    {
     "ename": "NameError",
     "evalue": "name 'bools' is not defined",
     "output_type": "error",
     "traceback": [
      "\u001b[0;31m---------------------------------------------------------------------------\u001b[0m",
      "\u001b[0;31mNameError\u001b[0m                                 Traceback (most recent call last)",
      "\u001b[0;32m<ipython-input-11-d93658be71a3>\u001b[0m in \u001b[0;36m<module>\u001b[0;34m()\u001b[0m\n\u001b[1;32m      1\u001b[0m \u001b[0;31m#boolean analysis\u001b[0m\u001b[0;34m\u001b[0m\u001b[0;34m\u001b[0m\u001b[0m\n\u001b[0;32m----> 2\u001b[0;31m \u001b[0;32mfor\u001b[0m \u001b[0mcolumn\u001b[0m \u001b[0;32min\u001b[0m \u001b[0mbools\u001b[0m\u001b[0;34m:\u001b[0m\u001b[0;34m\u001b[0m\u001b[0m\n\u001b[0m\u001b[1;32m      3\u001b[0m     \u001b[0mcount\u001b[0m\u001b[0;34m[\u001b[0m\u001b[0mcolumn\u001b[0m\u001b[0;34m]\u001b[0m \u001b[0;34m=\u001b[0m \u001b[0mdata\u001b[0m\u001b[0;34m[\u001b[0m\u001b[0mcolumn\u001b[0m\u001b[0;34m]\u001b[0m\u001b[0;34m.\u001b[0m\u001b[0mvalue_counts\u001b[0m\u001b[0;34m(\u001b[0m\u001b[0;34m)\u001b[0m\u001b[0;34m\u001b[0m\u001b[0m\n\u001b[1;32m      4\u001b[0m     \u001b[0mprint\u001b[0m\u001b[0;34m(\u001b[0m\u001b[0mcount\u001b[0m\u001b[0;34m[\u001b[0m\u001b[0mcolumn\u001b[0m\u001b[0;34m]\u001b[0m\u001b[0;34m)\u001b[0m\u001b[0;34m\u001b[0m\u001b[0m\n\u001b[1;32m      5\u001b[0m \u001b[0;34m\u001b[0m\u001b[0m\n",
      "\u001b[0;31mNameError\u001b[0m: name 'bools' is not defined"
     ]
    }
   ],
   "source": [
    "#boolean analysis\n",
    "for column in bools:\n",
    "    count[column] = data[column].value_counts()\n",
    "    print(count[column])\n",
    "\n",
    "import numpy as np\n",
    "\n",
    "N = 4\n",
    "zeros = (1811287, 3889229, 2468202, 3491170)\n",
    "ones = (3147060, 1069118, 2490145, 1467177)\n",
    "\n",
    "ind = np.arange(N)  # the x locations for the groups\n",
    "width = 0.4     # the width of the bars\n",
    "\n",
    "fig, ax = plt.subplots()\n",
    "rects1 = ax.bar(ind, zeros, width, color='r')\n",
    "\n",
    "rects2 = ax.bar(ind + width, ones, width, color='y')\n",
    "\n",
    "# add some text for labels, title and axes ticks\n",
    "ax.set_ylabel('Amount')\n",
    "ax.set_title('Distributions boolean variables')\n",
    "ax.set_xticks(ind + width / 2)\n",
    "boolnames = ('prop_brand', 'promotion',  'srch_saturday',  'random')\n",
    " \n",
    "    \n",
    "ax.set_xticklabels(boolnames)\n",
    "\n",
    "ax.legend((rects1[0], rects2[0]), ('0', '1'))\n",
    "\n",
    "def autolabel(rects):\n",
    "    \"\"\"\n",
    "    Attach a text label above each bar displaying its height\n",
    "    \"\"\"\n",
    "    for rect in rects:\n",
    "        height = rect.get_height()\n",
    "        ax.text(rect.get_x() + rect.get_width()/2., 1.02*height,\n",
    "                '%d' % int(height),\n",
    "                ha='center', va='bottom')\n",
    "\n",
    "autolabel(rects1)\n",
    "autolabel(rects2)\n",
    "\n",
    "\n",
    "# Get current size\n",
    "fig_size = plt.rcParams[\"figure.figsize\"]\n",
    " \n",
    "# Prints: [8.0, 6.0]\n",
    "print (\"Current size:\", fig_size)\n",
    "\n",
    "# Set figure width to 12 and height to 9\n",
    "fig_size[0] = 8\n",
    "fig_size[1] = 8\n",
    "plt.rcParams[\"figure.figsize\"] = fig_size\n",
    "print (\"Current size:\", fig_size)\n",
    "\n",
    "\n",
    "plt.show()"
   ]
  },
  {
   "cell_type": "code",
   "execution_count": 222,
   "metadata": {},
   "outputs": [],
   "source": [
    "#analysing prices and ratings \n",
    "ratingsprices = [ 'visitor_hist_starrating', 'visitor_hist_adr_usd' , 'prop_starrating', 'prop_review_score' \n",
    " ,'prop_location_score1' ,'prop_location_score2' ,'prop_log_historical_price'\n",
    " ,'position' ,'price_usd' , 'srch_length_of_stay', 'srch_booking_window' ,'srch_adults_count'\n",
    " ,'srch_children_count', 'srch_room_count', 'srch_query_affinity_score', 'orig_destination_distance']\n",
    "\n",
    "for column in ratingsprices:\n",
    "    columnname = data[column].name\n",
    "    mean = round(data[column].mean(),2)\n",
    "    sd =  round(data[column].std(),2)\n",
    "    min_value = round(data[column].min(),2)\n",
    "    max_value = round(data[column].max(),2)\n",
    "    median =  round(data[column].median(),2)\n",
    "    print(columnname, mean, sd, min_value, max_value, median)"
   ]
  },
  {
   "cell_type": "code",
   "execution_count": 16,
   "metadata": {},
   "outputs": [
    {
     "name": "stdout",
     "output_type": "stream",
     "text": [
      "0    4736468\n",
      "1     221879\n",
      "Name: click_bool, dtype: int64\n",
      "0    4819957\n",
      "1     138390\n",
      "Name: booking_bool, dtype: int64\n"
     ]
    }
   ],
   "source": [
    "#analyse result variables\n",
    "results = ['click_bool', 'booking_bool']\n",
    "for column in results:\n",
    "    count = data[column].value_counts()\n",
    "    print(count)"
   ]
  },
  {
   "cell_type": "code",
   "execution_count": 18,
   "metadata": {},
   "outputs": [
    {
     "name": "stdout",
     "output_type": "stream",
     "text": [
      "Current size: [8.0, 8.0]\n",
      "Current size: [8, 8]\n"
     ]
    },
    {
     "data": {
      "image/png": "[encoded data removed]",
      "text/plain": [
       "<Figure size 576x576 with 1 Axes>"
      ]
     },
     "metadata": {},
     "output_type": "display_data"
    }
   ],
   "source": [
    "N = 2\n",
    "zeros = (4736468, 4819957)\n",
    "ones = (221879, 138390)\n",
    "import numpy as np\n",
    "\n",
    "ind = np.arange(N)  # the x locations for the groups\n",
    "width = 0.4     # the width of the bars\n",
    "\n",
    "fig, ax = plt.subplots()\n",
    "rects1 = ax.bar(ind, zeros, width, color='r')\n",
    "\n",
    "rects2 = ax.bar(ind + width, ones, width, color='y')\n",
    "\n",
    "# add some text for labels, title and axes ticks\n",
    "ax.set_ylabel('Amount')\n",
    "ax.set_title('Distributions result variables')\n",
    "ax.set_xticks(ind + width / 2)\n",
    "boolnames = ('click_bool', 'booking_bool')\n",
    " \n",
    "    \n",
    "ax.set_xticklabels(boolnames)\n",
    "\n",
    "ax.legend((rects1[0], rects2[0]), ('0', '1'))\n",
    "\n",
    "def autolabel(rects):\n",
    "    \"\"\"\n",
    "    Attach a text label above each bar displaying its height\n",
    "    \"\"\"\n",
    "    for rect in rects:\n",
    "        height = rect.get_height()\n",
    "        ax.text(rect.get_x() + rect.get_width()/2., 1.01*height,\n",
    "                '%d' % int(height),\n",
    "                ha='center', va='bottom')\n",
    "\n",
    "autolabel(rects1)\n",
    "autolabel(rects2)\n",
    "\n",
    "\n",
    "# Get current size\n",
    "fig_size = plt.rcParams[\"figure.figsize\"]\n",
    " \n",
    "# Prints: [8.0, 6.0]\n",
    "print (\"Current size:\", fig_size)\n",
    "\n",
    "# Set figure width to 12 and height to 9\n",
    "fig_size[0] = 8\n",
    "fig_size[1] = 8\n",
    "plt.rcParams[\"figure.figsize\"] = fig_size\n",
    "print (\"Current size:\", fig_size)\n",
    "\n",
    "\n",
    "plt.show()"
   ]
  },
  {
   "cell_type": "code",
   "execution_count": 24,
   "metadata": {},
   "outputs": [
    {
     "name": "stdout",
     "output_type": "stream",
     "text": [
      "Number of unique values srch_id : 199795 , relative per row:  24\n",
      "Number of unique values site_id : 34 , relative per row:  145833\n",
      "Number of unique values visitor_location_country_id : 210 , relative per row:  23611\n",
      "Number of unique values prop_country_id : 172 , relative per row:  28827\n",
      "Number of unique values prop_id : 129113 , relative per row:  38\n",
      "Number of unique values srch_destination_id : 18127 , relative per row:  273\n"
     ]
    }
   ],
   "source": [
    "ids = ['srch_id' , 'site_id', 'visitor_location_country_id', 'prop_country_id', 'prop_id', 'srch_destination_id']\n",
    "idvalues = [[],[],[],[],[],[]]\n",
    "for id in ids:\n",
    "    globals()['%s' %id] = data[id].nunique()\n",
    "    nunique_ids = data[id].nunique()\n",
    "    print('Number of unique values',id,':', nunique_ids, ', relative per row: ', int(n_participants/nunique_ids))"
   ]
  },
  {
   "cell_type": "code",
   "execution_count": 25,
   "metadata": {},
   "outputs": [
    {
     "name": "stdout",
     "output_type": "stream",
     "text": [
      "Series([], Name: comp1_rate, dtype: int64)\n",
      "Series([], Name: comp1_inv, dtype: int64)\n",
      "nan nan nan\n",
      " 0.0    360\n",
      " 1.0     64\n",
      "-1.0     26\n",
      "Name: comp2_rate, dtype: int64\n",
      " 0.0    442\n",
      " 1.0     34\n",
      "-1.0      1\n",
      "Name: comp2_inv, dtype: int64\n",
      "2.0 279.0 21.64406779661017\n",
      " 0.0    334\n",
      "-1.0     34\n",
      " 1.0     32\n",
      "Name: comp3_rate, dtype: int64\n",
      " 0.0    398\n",
      " 1.0     13\n",
      "-1.0      3\n",
      "Name: comp3_inv, dtype: int64\n",
      "2.0 53.0 13.1875\n",
      " 0.0    58\n",
      "-1.0    19\n",
      " 1.0    10\n",
      "Name: comp4_rate, dtype: int64\n",
      " 0.0    86\n",
      " 1.0     6\n",
      "-1.0     2\n",
      "Name: comp4_inv, dtype: int64\n",
      "4.0 124.0 22.12121212121212\n",
      " 0.0    377\n",
      " 1.0     84\n",
      "-1.0     57\n",
      "Name: comp5_rate, dtype: int64\n",
      " 0.0    510\n",
      " 1.0     29\n",
      "-1.0      8\n",
      "Name: comp5_inv, dtype: int64\n",
      "2.0 207.0 20.890173410404625\n",
      " 0.0    51\n",
      " 1.0    20\n",
      "-1.0    10\n",
      "Name: comp6_rate, dtype: int64\n",
      "0.0    82\n",
      "1.0     5\n",
      "Name: comp6_inv, dtype: int64\n",
      "3.0 173.0 18.78787878787879\n",
      " 0.0    65\n",
      " 1.0    31\n",
      "-1.0     9\n",
      "Name: comp7_rate, dtype: int64\n",
      "0.0    105\n",
      "1.0     12\n",
      "Name: comp7_inv, dtype: int64\n",
      "2.0 220.0 26.466666666666665\n",
      " 0.0    354\n",
      "-1.0     57\n",
      " 1.0     27\n",
      "Name: comp8_rate, dtype: int64\n",
      " 0.0    435\n",
      " 1.0      8\n",
      "-1.0      3\n",
      "Name: comp8_inv, dtype: int64\n",
      "2.0 67.0 13.693693693693694\n"
     ]
    }
   ],
   "source": [
    "#analysis competitive data\n",
    "comps=['comp1_rate','comp1_inv','comp1_rate_percent_diff','comp2_rate'\n",
    ",'comp2_inv','comp2_rate_percent_diff','comp3_rate','comp3_inv'\n",
    ",'comp3_rate_percent_diff','comp4_rate','comp4_inv'\n",
    ",'comp4_rate_percent_diff','comp5_rate','comp5_inv',\n",
    "'comp5_rate_percent_diff','comp6_rate','comp6_inv'\n",
    ",'comp6_rate_percent_diff','comp7_rate','comp7_inv'\n",
    ",'comp7_rate_percent_diff','comp8_rate','comp8_inv'\n",
    ",'comp8_rate_percent_diff']\n",
    "\n",
    "for column in comps:\n",
    "    count = df[column].value_counts()\n",
    "    min_value = df[column].min()\n",
    "    max_value = df[column].max()\n",
    "    mean = df[column].mean()\n",
    "    if column.endswith('diff') == False:\n",
    "        print(count)\n",
    "    else:\n",
    "        print(min_value, max_value, mean)"
   ]
  },
  {
   "cell_type": "code",
   "execution_count": 26,
   "metadata": {},
   "outputs": [],
   "source": [
    "diffs = []\n",
    "rates = []\n",
    "invs = []\n",
    "for word in comps:\n",
    "    if word.endswith('rate'):\n",
    "        rates.append(word)\n",
    "for word in comps:\n",
    "    if word.endswith('diff'):\n",
    "        diffs.append(word)\n",
    "for word in comps:\n",
    "    if word.endswith('inv'):\n",
    "        invs.append(word)\n"
   ]
  },
  {
   "cell_type": "code",
   "execution_count": 27,
   "metadata": {},
   "outputs": [],
   "source": [
    "dfcomps = df[comps]\n",
    "dfrates = df[rates]\n",
    "dfinvs = df[invs]\n",
    "dfdiffs = df[diffs]\n",
    "\n",
    "datacomps = data[comps]\n",
    "datarates = data[rates]\n",
    "datainvs = data[invs]\n",
    "datadiffs = data[diffs]"
   ]
  },
  {
   "cell_type": "code",
   "execution_count": 10,
   "metadata": {},
   "outputs": [
    {
     "name": "stdout",
     "output_type": "stream",
     "text": [
      "101457\n"
     ]
    }
   ],
   "source": [
    "# check for each row, whether a -1 for 1 comp and 1 for another can happen\n",
    "counter = 0\n",
    "for index, row in datarates.iterrows():\n",
    "    values = row.values\n",
    "    if (-1 in values) and (1 in values):\n",
    "        counter += 1\n",
    "print(counter)\n",
    "\n",
    "#101457 have mixed comp ratings"
   ]
  },
  {
   "cell_type": "code",
   "execution_count": 28,
   "metadata": {},
   "outputs": [],
   "source": [
    "#merge availability and rating\n",
    "for i in range(0, len(rates)):\n",
    "    globals()['series_%d' %i] = data[rates[i]] * data[invs[i]] #* df[diffs[i]]"
   ]
  },
  {
   "cell_type": "code",
   "execution_count": 29,
   "metadata": {},
   "outputs": [
    {
     "name": "stdout",
     "output_type": "stream",
     "text": [
      "addedcomp1and2 2837478\n",
      "addedcomp3 2531449\n",
      "addedcomp4 2455359\n",
      "addedcomp5 1861974\n",
      "addedcomp6 1844335\n",
      "addedcomp7 1828773\n",
      "addedcomp8 1716808\n",
      "final missing is  1716808 , percentage of  34.624603723781334\n"
     ]
    }
   ],
   "source": [
    "#merge 8 competitors\n",
    "series = series_0.add(series_1, fill_value=0)\n",
    "print('addedcomp1and2', series.isnull().sum())\n",
    "series = series.add(series_2, fill_value = 0)\n",
    "print('addedcomp3',series.isnull().sum())\n",
    "series = series.add(series_3, fill_value = 0)\n",
    "print('addedcomp4',series.isnull().sum())\n",
    "series = series.add(series_4, fill_value = 0)\n",
    "print('addedcomp5',series.isnull().sum())\n",
    "series = series.add(series_5, fill_value = 0)\n",
    "print('addedcomp6',series.isnull().sum())\n",
    "series = series.add(series_6, fill_value = 0)\n",
    "print('addedcomp7',series.isnull().sum())\n",
    "series = series.add(series_7, fill_value = 0)\n",
    "print('addedcomp8',series.isnull().sum())\n",
    "\n",
    "final_missing = series.isnull().sum()\n",
    "final_missing_perc = (final_missing/n_participants)*100\n",
    "print('final missing is ', final_missing, ', percentage of ', final_missing_perc)"
   ]
  },
  {
   "cell_type": "code",
   "execution_count": 31,
   "metadata": {},
   "outputs": [],
   "source": [
    "#create new competitve data series and remove old\n",
    "data_new_comp = data.drop(columns=comps)\n",
    "competitive_series = pd.Series(data = series, name = 'comp')\n",
    "data_new_comp = pd.concat([data_new_comp, competitive_series], axis=1)"
   ]
  },
  {
   "cell_type": "code",
   "execution_count": 32,
   "metadata": {},
   "outputs": [],
   "source": [
    "#remove visitor variables and srch query with large amount of mising data and datetime which is not relevant\n",
    "vars_to_delete =['visitor_hist_starrating', 'visitor_hist_adr_usd', \n",
    "                            'srch_query_affinity_score', 'date_time']\n",
    "data_new_comp = data_new_comp.drop(columns = vars_to_delete)"
   ]
  },
  {
   "cell_type": "code",
   "execution_count": 33,
   "metadata": {},
   "outputs": [],
   "source": [
    "#merge location scores\n",
    "locationscores=['prop_location_score1','prop_location_score2']\n",
    "data_new_comp['prop_location_score'] = data_new_comp[['prop_location_score1','prop_location_score2']].mean(axis=1)\n",
    "data_new_comp = data_new_comp.drop(columns = locationscores)"
   ]
  },
  {
   "cell_type": "code",
   "execution_count": 34,
   "metadata": {},
   "outputs": [],
   "source": [
    "#fill na values with mean\n",
    "fill_na_mean = ['prop_review_score', 'prop_log_historical_price', 'prop_starrating']\n",
    "\n",
    "for fill in fill_na_mean:\n",
    "    data_new_comp[fill].fillna(data_new_comp[fill].mean())"
   ]
  },
  {
   "cell_type": "code",
   "execution_count": 35,
   "metadata": {},
   "outputs": [],
   "source": [
    "#fill zeros with mean\n",
    "\n",
    "fill_na_mean = ['prop_review_score', 'prop_log_historical_price', 'prop_starrating']\n",
    "\n",
    "for fill in fill_na_mean:\n",
    "    globals()['%s' %fill] = df[fill].replace(0, df[fill].mean())\n",
    "\n",
    "\n",
    "prop_review_score = pd.Series(data = prop_review_score, name = 'prop_review_score')\n",
    "prop_log_historical_price = pd.Series(data = prop_log_historical_price, name = 'prop_log_historical_price')\n",
    "prop_starrating = pd.Series(data = prop_starrating, name = 'prop_starrating')\n",
    "\n"
   ]
  },
  {
   "cell_type": "code",
   "execution_count": 38,
   "metadata": {},
   "outputs": [],
   "source": [
    "data_new_comp = data_new_comp.drop(columns = fill_na_mean)    \n"
   ]
  },
  {
   "cell_type": "code",
   "execution_count": 39,
   "metadata": {},
   "outputs": [],
   "source": [
    "\n",
    "data_new_comp = pd.concat([data_new_comp, prop_review_score], axis = 1)\n",
    "data_new_comp = pd.concat([data_new_comp, prop_log_historical_price], axis = 1)\n",
    "data_new_comp = pd.concat([data_new_comp, prop_starrating], axis = 1)"
   ]
  },
  {
   "cell_type": "code",
   "execution_count": 36,
   "metadata": {},
   "outputs": [],
   "source": [
    "import numpy as np\n",
    "# replace price with log\n",
    "price_usd_log = pd.Series(data = (np.log(df.price_usd)), name = 'price_usd_log')\n",
    "\n",
    "data_new_comp = pd.concat([data_new_comp, price_usd_log], axis=1)\n",
    "data_new_comp = data_new_comp.drop(columns ='price_usd')"
   ]
  },
  {
   "cell_type": "code",
   "execution_count": 40,
   "metadata": {},
   "outputs": [
    {
     "name": "stdout",
     "output_type": "stream",
     "text": [
      "['srch_id' 'site_id' 'visitor_location_country_id' 'prop_country_id'\n",
      " 'prop_id' 'prop_brand_bool' 'position' 'promotion_flag'\n",
      " 'srch_destination_id' 'srch_length_of_stay' 'srch_booking_window'\n",
      " 'srch_adults_count' 'srch_children_count' 'srch_room_count'\n",
      " 'srch_saturday_night_bool' 'orig_destination_distance' 'random_bool'\n",
      " 'click_bool' 'gross_bookings_usd' 'booking_bool' 'comp'\n",
      " 'prop_location_score' 'price_usd_log' 'prop_review_score'\n",
      " 'prop_log_historical_price' 'prop_starrating']\n"
     ]
    }
   ],
   "source": [
    "print(data_new_comp.columns.values)"
   ]
  },
  {
   "cell_type": "code",
   "execution_count": 41,
   "metadata": {},
   "outputs": [],
   "source": [
    "data_new_comp.to_csv('train_cleaned.csv')"
   ]
  },
  {
   "cell_type": "code",
   "execution_count": null,
   "metadata": {},
   "outputs": [],
   "source": [
    "Columns = Search criteria\n",
    "Date and time of search\n",
    "Destination id\n",
    "Length of stay\n",
    "Booking window\n",
    "# adults\n",
    "# children\n",
    "# rooms\n",
    "If short stay including Saturday night\n",
    "\n",
    "Hotel characteristics (static)\n",
    "Hotel id\n",
    "Hotel country\n",
    "Star rating\n",
    "User review score\n",
    "If independent or belongs to a hotel chain\n",
    "Desirability of hotel location (1)\n",
    "Desirability of hotel location (2)\n",
    "Historical price of a hotel\n",
    "\n",
    "Hotel characteristics (dynamic)\n",
    "Rank position\n",
    "Price\n",
    "Promotion flag\n",
    "Probability of click given a free text query\n",
    "If clicked\n",
    "If booked\n",
    "Total value of transaction\n",
    "\n",
    "Visitor information\n",
    "Visitor location\n",
    "Visitor country\n",
    "Distance between visitor and hotel\n",
    "Visitor’s aggregate purchase history\n",
    "Mean star rating\n",
    "Mean price per night\n",
    "\n",
    "Competitive OTA information\n",
    "If Expedia has lower/same/higher price\n",
    "than competitor X\n",
    "If competitor has hotel availability\n",
    "Price difference\n",
    "\n",
    "Other\n",
    "Search id\n",
    "Point of sale (expedia.com, expedia.fr, ...)\n",
    "If random sort order\n"
   ]
  },
  {
   "cell_type": "code",
   "execution_count": 31,
   "metadata": {},
   "outputs": [],
   "source": [
    "# variables\n",
    "\n",
    "varnames = data.columns.values\n",
    "#['srch_id' 'date_time' 'site_id' 'visitor_location_country_id'\n",
    "# 'visitor_hist_starrating' 'visitor_hist_adr_usd' 'prop_country_id'\n",
    "# 'prop_id' 'prop_starrating' 'prop_review_score' 'prop_brand_bool'\n",
    "# 'prop_location_score1' 'prop_location_score2' 'prop_log_historical_price'\n",
    "# 'position' 'price_usd' 'promotion_flag' 'srch_destination_id'\n",
    "# 'srch_length_of_stay' 'srch_booking_window' 'srch_adults_count'\n",
    "# 'srch_children_count' 'srch_room_count' 'srch_saturday_night_bool'\n",
    "# 'srch_query_affinity_score' 'orig_destination_distance' 'random_bool'\n",
    "# 'comp1_rate' 'comp1_inv' 'comp1_rate_percent_diff' 'comp2_rate'\n",
    "# 'comp2_inv' 'comp2_rate_percent_diff' 'comp3_rate' 'comp3_inv'\n",
    "# 'comp3_rate_percent_diff' 'comp4_rate' 'comp4_inv'\n",
    "# 'comp4_rate_percent_diff' 'comp5_rate' 'comp5_inv'\n",
    "# 'comp5_rate_percent_diff' 'comp6_rate' 'comp6_inv'\n",
    "# 'comp6_rate_percent_diff' 'comp7_rate' 'comp7_inv'\n",
    "# 'comp7_rate_percent_diff' 'comp8_rate' 'comp8_inv'\n",
    "# 'comp8_rate_percent_diff' 'click_bool' 'gross_bookings_usd'\n",
    "# 'booking_bool']\n",
    "amountofvar = len(varnames)\n",
    "#54 variables"
   ]
  },
  {
   "cell_type": "code",
   "execution_count": 32,
   "metadata": {},
   "outputs": [],
   "source": [
    "# missing values\n",
    "print(data.isnull().sum())\n"
   ]
  },
  {
   "cell_type": "code",
   "execution_count": null,
   "metadata": {},
   "outputs": [],
   "source": [
    "#splitting variables for different analysis\n",
    "\n",
    "#variables that used '0' in case of missing data or have null values\n",
    "#'visitor_hist_starrating' null signifies there is no purchase history on the customer\n",
    "#'visitor_hist_adr_usd' null signifies there is no purchase history on the customer\n",
    "#'srch_query_affinity_score' null signifies there are no data (i.e. hotel did not register in any searches)\n",
    "#'orig_destination_distance' A null means the distance could not be calculated\n",
    "#'comp1_rate' null signifies there is no competitive data\n",
    "\n",
    "\n",
    "date = ['date_time']\n",
    "     \n",
    "ids = ['srch_id' , 'site_id', 'visitor_location_country_id', 'prop_country_id', 'prop_id', 'srch_destination_id']\n",
    " \n",
    "ratingsprices = [ 'visitor_hist_starrating', 'visitor_hist_adr_usd' , 'prop_starrating', 'prop_review_score' \n",
    " ,'prop_location_score1' ,'prop_location_score2' ,'prop_log_historical_price'\n",
    " ,'position' ,'price_usd' , 'srch_length_of_stay', 'srch_booking_window' ,'srch_adults_count'\n",
    " ,'srch_children_count', 'srch_room_count', 'srch_query_affinity_score', 'orig_destination_distance']\n",
    "\n",
    "bools = ['prop_brand_bool', 'promotion_flag',  'srch_saturday_night_bool',  'random_bool']\n",
    " \n",
    "comps = [ 'comp1_rate' 'comp1_inv' 'comp1_rate_percent_diff' 'comp2_rate'\n",
    " 'comp2_inv' 'comp2_rate_percent_diff' 'comp3_rate' 'comp3_inv'\n",
    " 'comp3_rate_percent_diff' 'comp4_rate' 'comp4_inv'\n",
    " 'comp4_rate_percent_diff' 'comp5_rate' 'comp5_inv'\n",
    "'comp5_rate_percent_diff' 'comp6_rate' 'comp6_inv'\n",
    " 'comp6_rate_percent_diff' 'comp7_rate' 'comp7_inv'\n",
    " 'comp7_rate_percent_diff' 'comp8_rate' 'comp8_inv'\n",
    " 'comp8_rate_percent_diff' ]\n",
    " \n",
    "results = ['click_bool', 'booking_bool']\n",
    "\n",
    "left = 'gross_bookings_usd'\n"
   ]
  },
  {
   "cell_type": "code",
   "execution_count": null,
   "metadata": {},
   "outputs": [],
   "source": []
  },
  {
   "cell_type": "code",
   "execution_count": null,
   "metadata": {},
   "outputs": [],
   "source": []
  }
 ],
 "metadata": {
  "kernelspec": {
   "display_name": "Python 3",
   "language": "python",
   "name": "python3"
  },
  "language_info": {
   "codemirror_mode": {
    "name": "ipython",
    "version": 3
   },
   "file_extension": ".py",
   "mimetype": "text/x-python",
   "name": "python",
   "nbconvert_exporter": "python",
   "pygments_lexer": "ipython3",
   "version": "3.5.2"
  }
 },
 "nbformat": 4,
 "nbformat_minor": 2
}
